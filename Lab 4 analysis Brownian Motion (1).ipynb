{
 "cells": [
  {
   "cell_type": "code",
   "execution_count": 296,
   "id": "89b74e11",
   "metadata": {},
   "outputs": [],
   "source": [
    "import numpy as np\n",
    "import matplotlib.pyplot as plt\n",
    "from scipy.optimize import curve_fit\n",
    "import pandas as pd\n",
    "import scipy.stats\n",
    "import array"
   ]
  },
  {
   "cell_type": "code",
   "execution_count": 319,
   "id": "3085c77e",
   "metadata": {},
   "outputs": [
    {
     "name": "stdout",
     "output_type": "stream",
     "text": [
      "(44225, 12)\n"
     ]
    }
   ],
   "source": [
    "run = np.array(pd.read_csv('Resultnewdayrun3_particle_report.csv'))\n",
    "#run = np.array(pd.read_csv('newdayrun2_results.csv'))\n",
    "#run = np.array(pd.read_csv('newdayrun4_results.csv'))\n",
    "#run = np.array(pd.read_csv('newdayrun5_results.csv'))\n",
    "print(run.shape)"
   ]
  },
  {
   "cell_type": "code",
   "execution_count": 320,
   "id": "db89a601",
   "metadata": {},
   "outputs": [],
   "source": [
    "numoftraj=np.max(run[:,1])\n",
    "totdatalen=run.shape[0]"
   ]
  },
  {
   "cell_type": "code",
   "execution_count": 321,
   "id": "f22bbd8e",
   "metadata": {},
   "outputs": [
    {
     "data": {
      "text/plain": [
       "44225"
      ]
     },
     "execution_count": 321,
     "metadata": {},
     "output_type": "execute_result"
    }
   ],
   "source": [
    "totdatalen"
   ]
  },
  {
   "cell_type": "code",
   "execution_count": 322,
   "id": "f82f0d70",
   "metadata": {},
   "outputs": [],
   "source": [
    "listsx = [[] for i in range(0,int(numoftraj))]\n",
    "listsy = [[] for i in range(0,int(numoftraj))]\n",
    "for i in range(0,int(numoftraj)):\n",
    "    for j in range(0,totdatalen):\n",
    "        if run[j,1]==i:\n",
    "            listsx[i].append(run[j,3])\n",
    "            listsy[i].append(run[j,4])"
   ]
  },
  {
   "cell_type": "code",
   "execution_count": 323,
   "id": "f84e3179",
   "metadata": {},
   "outputs": [],
   "source": [
    "numofframes = 120\n",
    "count = 0\n",
    "for i in range(0,int(numoftraj)):\n",
    "    if len(listsx[i])>=numofframes:\n",
    "        count+=1\n",
    "datax = [[] for i in range(0,count)]\n",
    "datay = [[] for i in range(0,count)]\n",
    "nofparticles=0\n",
    "for i in range(0,int(numoftraj)):\n",
    "    if len(listsx[i])>=numofframes:\n",
    "        datax[nofparticles]=listsx[i]\n",
    "        datay[nofparticles]=listsy[i]\n",
    "        nofparticles+=1"
   ]
  },
  {
   "cell_type": "code",
   "execution_count": 324,
   "id": "53dd0ad5",
   "metadata": {},
   "outputs": [],
   "source": [
    "#drift failure\n",
    "#for i in range(0,len(datax)):\n",
    "#   dispx.append(datax[i][numofframes]-datax[i][0])\n",
    "#   dispy.append(datay[i][numofframes]-datay[i][0])\n",
    "#driftx=sum(dispx)/numofframes\n",
    "#drifty=sum(dispy)/numofframes\n",
    "\n",
    "#for i in range(0,nofparticles):\n",
    " #   for j in range(0,numofframes):\n",
    "  #      datax[i][j]=datax[i][j]-driftx\n",
    "   #     datay[i][j]=datay[i][j]-drifty"
   ]
  },
  {
   "cell_type": "code",
   "execution_count": 325,
   "id": "2e4e66da",
   "metadata": {},
   "outputs": [
    {
     "name": "stdout",
     "output_type": "stream",
     "text": [
      "80\n"
     ]
    }
   ],
   "source": [
    "print(len(datax))"
   ]
  },
  {
   "cell_type": "code",
   "execution_count": 326,
   "id": "c37c6c30",
   "metadata": {},
   "outputs": [],
   "source": [
    "dispx=[]\n",
    "dispy=[]\n",
    "for i in range(0,nofparticles):\n",
    "    dispx.append((datax[i][len(datax[i])-1]-datax[i][0])/len(datax[i]))\n",
    "    dispy.append((datay[i][len(datay[i])-1]-datay[i][0])/len(datay[i]))\n",
    "avgxdriftperframe=np.mean(dispx)\n",
    "avgydriftperframe=np.mean(dispy)"
   ]
  },
  {
   "cell_type": "code",
   "execution_count": 327,
   "id": "ac6faffa",
   "metadata": {},
   "outputs": [],
   "source": [
    "for i in range(0,nofparticles):\n",
    "    for j in range(1,len(datax[i])):\n",
    "        datax[i][j-1]=datax[i][j-1] - avgxdriftperframe*j\n",
    "        datay[i][j-1]=datay[i][j-1] - avgydriftperframe*j"
   ]
  },
  {
   "cell_type": "code",
   "execution_count": 328,
   "id": "680c5bc1",
   "metadata": {},
   "outputs": [],
   "source": [
    "Rsqvals = [[] for i in range(0,count)]\n",
    "for i in range(0,count):\n",
    "    for j in range(0,len(datax[i])):\n",
    "        Rsqvals[i].append((datax[i][j]/2.14-datax[i][0]/2.14)**2+(datay[i][j]/2.14-datay[i][0]/2.14)**2)"
   ]
  },
  {
   "cell_type": "code",
   "execution_count": 329,
   "id": "cd751cc8",
   "metadata": {},
   "outputs": [],
   "source": [
    "Rvst=np.zeros(numofframes)\n",
    "for i in range(0,numofframes):\n",
    "    for j in range(0,nofparticles):\n",
    "        Rvst[i]+=Rsqvals[j][i]"
   ]
  },
  {
   "cell_type": "code",
   "execution_count": 330,
   "id": "590772b5",
   "metadata": {},
   "outputs": [
    {
     "name": "stdout",
     "output_type": "stream",
     "text": [
      "[0.         0.0874326  0.13065261 0.14208055 0.18445398 0.24406299\n",
      " 0.29933223 0.29972257 0.34388526 0.43002394 0.45211912 0.47198776\n",
      " 0.50460841 0.52945573 0.5462139  0.57165363 0.64755845 0.71010238\n",
      " 0.79982724 0.85591624 0.91047665 0.9907517  1.07256353 1.14416142\n",
      " 1.16279374 1.22403033 1.2849081  1.33631515 1.34493433 1.378304\n",
      " 1.38449052 1.42948888 1.49055804 1.55288577 1.5675557  1.6366742\n",
      " 1.67327984 1.69604188 1.73653196 1.87869388 1.96728453 2.07702611\n",
      " 2.13337697 2.15317157 2.18709265 2.19079784 2.21397903 2.36458696\n",
      " 2.41998695 2.43326005 2.40854026 2.43640169 2.51977597 2.55896394\n",
      " 2.72214279 2.79580775 2.78145333 2.91664192 2.93565527 3.00072075\n",
      " 3.0490123  3.0300654  3.12442398 3.27219386 3.29484484 3.33717081\n",
      " 3.34620756 3.41375616 3.40836802 3.35786722 3.38179615 3.49819038\n",
      " 3.55209959 3.51193555 3.55572736 3.54045417 3.5792991  3.65702685\n",
      " 3.76863609 3.83667823 3.92362973 4.10296274 4.19386833 4.17220706\n",
      " 4.18445469 4.21657776 4.38754029 4.58397311 4.7772515  4.73279085\n",
      " 4.74937901 4.84209064 4.80056337 4.93449121 5.12957684 5.08366497\n",
      " 5.06256065 5.22100536 5.22890564 5.21651816 5.24229779 5.35199493\n",
      " 5.51841558 5.40224374 5.37259266 5.39744222 5.38732664 5.48587164\n",
      " 5.53452023 6.23591941 5.70968004 5.89028232 5.83873479 5.99304224\n",
      " 5.95455031 5.83317637 5.77717163 5.81541741 5.77843555 5.95888095]\n"
     ]
    },
    {
     "data": {
      "image/png": "[encoded data removed]",
      "text/plain": [
       "<Figure size 432x288 with 1 Axes>"
      ]
     },
     "metadata": {
      "needs_background": "light"
     },
     "output_type": "display_data"
    }
   ],
   "source": [
    "print(Rvst/103)\n",
    "for i in range(0,numofframes):\n",
    "    plt.scatter(i/15,Rvst[i]/nofparticles)"
   ]
  },
  {
   "cell_type": "code",
   "execution_count": 331,
   "id": "0b9db4f8",
   "metadata": {},
   "outputs": [
    {
     "data": {
      "text/plain": [
       "Text(0.5, 1.0, 'Mean Square Displacement vs. Time')"
      ]
     },
     "execution_count": 331,
     "metadata": {},
     "output_type": "execute_result"
    },
    {
     "data": {
      "image/png": "[encoded data removed]",
      "text/plain": [
       "<Figure size 1080x576 with 1 Axes>"
      ]
     },
     "metadata": {
      "needs_background": "light"
     },
     "output_type": "display_data"
    }
   ],
   "source": [
    "time=np.linspace(0,numofframes/15,numofframes)\n",
    "\n",
    "slope,intercept,rval,pval,stdslope=scipy.stats.linregress(time,Rvst/nofparticles)\n",
    "xline=np.linspace(0,np.max(time),100)\n",
    "yline=np.zeros(len(xline))\n",
    "for i in range(0,len(xline)):\n",
    "    yline[i]=xline[i]*slope+intercept\n",
    "plt.figure(figsize = (15,8))\n",
    "plt.scatter(time,Rvst/nofparticles)\n",
    "plt.plot(xline,yline,'r')\n",
    "plt.xlabel('Time (s)')\n",
    "plt.ylabel('Mean Square Displacement (\\u03BCm)')\n",
    "plt.title('Mean Square Displacement vs. Time')"
   ]
  },
  {
   "cell_type": "code",
   "execution_count": 340,
   "id": "8a4bab2e",
   "metadata": {},
   "outputs": [
    {
     "name": "stdout",
     "output_type": "stream",
     "text": [
      "1.4246028594466218e-23\n"
     ]
    }
   ],
   "source": [
    "kr=1.38064852e-23 #Boltzmann constant\n",
    "a=.5 #microns\n",
    "T=298 #Kelvin\n",
    "eta=890.3 #uPa*2\n",
    "k=slope*eta*a*6*np.pi*2/(4*T*(1e6)**4)\n",
    "print(k)\n",
    "etaerr=5"
   ]
  },
  {
   "cell_type": "code",
   "execution_count": 333,
   "id": "065c567e",
   "metadata": {},
   "outputs": [
    {
     "name": "stdout",
     "output_type": "stream",
     "text": [
      "3.120596016162622e-25\n"
     ]
    }
   ],
   "source": [
    "kerr=k*np.sqrt((stdslope/slope)**2+(.01/a)**2+(.5/T)**2+(etaerr/eta)**2)\n",
    "print(kerr)"
   ]
  },
  {
   "cell_type": "code",
   "execution_count": 339,
   "id": "977e49ad",
   "metadata": {},
   "outputs": [
    {
     "data": {
      "text/plain": [
       "0.9946626499342952"
      ]
     },
     "execution_count": 339,
     "metadata": {},
     "output_type": "execute_result"
    }
   ],
   "source": [
    "rval**2"
   ]
  },
  {
   "cell_type": "code",
   "execution_count": 336,
   "id": "cf93db73",
   "metadata": {},
   "outputs": [
    {
     "name": "stdout",
     "output_type": "stream",
     "text": [
      "1.0118882913337974 0.0068236462789321925\n"
     ]
    }
   ],
   "source": [
    "print(slope,stdslope)"
   ]
  },
  {
   "cell_type": "code",
   "execution_count": null,
   "id": "a2ca5ab9",
   "metadata": {},
   "outputs": [],
   "source": []
  }
 ],
 "metadata": {
  "kernelspec": {
   "display_name": "Python 3",
   "language": "python",
   "name": "python3"
  },
  "language_info": {
   "codemirror_mode": {
    "name": "ipython",
    "version": 3
   },
   "file_extension": ".py",
   "mimetype": "text/x-python",
   "name": "python",
   "nbconvert_exporter": "python",
   "pygments_lexer": "ipython3",
   "version": "3.8.8"
  }
 },
 "nbformat": 4,
 "nbformat_minor": 5
}
